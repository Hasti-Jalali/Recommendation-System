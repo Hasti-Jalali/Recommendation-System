{
 "cells": [
  {
   "cell_type": "code",
   "execution_count": 5,
   "metadata": {},
   "outputs": [],
   "source": [
    "import pandas as pd\n",
    "import numpy as np\n",
    "from pyspark.sql import SparkSession\n",
    "from pyspark.ml.evaluation import RegressionEvaluator\n",
    "from pyspark.ml.recommendation import ALS\n",
    "from pyspark.ml.feature import VectorAssembler"
   ]
  },
  {
   "cell_type": "code",
   "execution_count": 6,
   "metadata": {},
   "outputs": [
    {
     "name": "stdout",
     "output_type": "stream",
     "text": [
      "23/01/26 23:31:17 WARN Utils: Your hostname, Hasti-2.local resolves to a loopback address: 127.0.0.1; using 192.168.1.4 instead (on interface en0)\n",
      "23/01/26 23:31:17 WARN Utils: Set SPARK_LOCAL_IP if you need to bind to another address\n"
     ]
    },
    {
     "name": "stderr",
     "output_type": "stream",
     "text": [
      "Setting default log level to \"WARN\".\n",
      "To adjust logging level use sc.setLogLevel(newLevel). For SparkR, use setLogLevel(newLevel).\n"
     ]
    },
    {
     "name": "stdout",
     "output_type": "stream",
     "text": [
      "23/01/26 23:31:17 WARN NativeCodeLoader: Unable to load native-hadoop library for your platform... using builtin-java classes where applicable\n"
     ]
    }
   ],
   "source": [
    "# Start a spark session\n",
    "spark = SparkSession.builder.appName(\"Collaborative_Filtering\").getOrCreate()"
   ]
  },
  {
   "cell_type": "code",
   "execution_count": 7,
   "metadata": {},
   "outputs": [
    {
     "name": "stderr",
     "output_type": "stream",
     "text": [
      "                                                                                \r"
     ]
    }
   ],
   "source": [
    "# Read in the ratings data\n",
    "ratings_data = spark.read.format(\"csv\").option(\"header\", \"true\").option(\"inferSchema\", \"true\").load(\"./Dataset/ratings.csv\")"
   ]
  },
  {
   "cell_type": "code",
   "execution_count": 8,
   "metadata": {},
   "outputs": [],
   "source": [
    "# create cosine similarity model\n",
    "als = ALS(userCol=\"user_id\", itemCol=\"game_id\", ratingCol=\"rating\", coldStartStrategy=\"drop\")"
   ]
  },
  {
   "cell_type": "code",
   "execution_count": 9,
   "metadata": {},
   "outputs": [
    {
     "name": "stderr",
     "output_type": "stream",
     "text": [
      "                                                                                \r"
     ]
    }
   ],
   "source": [
    "# number all of users\n",
    "n = int(ratings_data.describe().collect()[4][2])\n",
    "# number all of games\n",
    "m = int(ratings_data.describe().collect()[4][1])"
   ]
  },
  {
   "cell_type": "code",
   "execution_count": 10,
   "metadata": {},
   "outputs": [],
   "source": [
    "# # create a matrix of ratings\n",
    "# rating = np.zeros((n, m))\n",
    "# for row in ratings_data.collect():\n",
    "#     rating[row[1] - 1][row[0] - 1] = row[2]\n",
    "\n",
    "# # save the matrix\n",
    "# np.save(\"rating.npy\", rating)\n",
    "\n",
    "# load the matrix\n",
    "rating = np.load(\"rating.npy\")"
   ]
  },
  {
   "cell_type": "code",
   "execution_count": 11,
   "metadata": {},
   "outputs": [
    {
     "name": "stdout",
     "output_type": "stream",
     "text": [
      "+-------+-----------------+------------------+------------------+\n",
      "|summary|          game_id|           user_id|            rating|\n",
      "+-------+-----------------+------------------+------------------+\n",
      "|  count|           981548|            981548|            981548|\n",
      "|   mean|4943.316270829343|25616.592174809586|3.8564950465998606|\n",
      "| stddev|2873.219878464294|15228.359436640887|0.9839536925631067|\n",
      "|    min|                1|                 1|                 1|\n",
      "|    max|            10000|             53424|                 5|\n",
      "+-------+-----------------+------------------+------------------+\n",
      "\n"
     ]
    }
   ],
   "source": [
    "# def cosine_similarity(v1, v2, norm1, norm2 ):\n",
    "#     return np.dot(v1, v2) / (norm1 * norm2)\n",
    "\n",
    "ratings_data.describe().show()"
   ]
  },
  {
   "cell_type": "code",
   "execution_count": 12,
   "metadata": {},
   "outputs": [],
   "source": [
    "norm = np.linalg.norm(rating, axis=1, keepdims=True)"
   ]
  },
  {
   "cell_type": "code",
   "execution_count": 14,
   "metadata": {},
   "outputs": [],
   "source": [
    "def cosine_similarity(v1, v2, norm1, norm2 ):\n",
    "    return np.dot(v1, v2) / (norm1 * norm2)\n",
    "\n",
    "# calc cosine similarity of specific user\n",
    "def calc_similarity(user_id):\n",
    "    similarity = np.zeros((n, 1))\n",
    "    if norm[user_id - 1] != 0:\n",
    "        for i in range(n):\n",
    "            if norm[i] == 0:\n",
    "                similarity[i][0] = 0\n",
    "            else:\n",
    "                similarity[i][0] = cosine_similarity(rating[user_id - 1], rating[i], norm[user_id - 1], norm[i])\n",
    "    return similarity"
   ]
  },
  {
   "cell_type": "code",
   "execution_count": 88,
   "metadata": {},
   "outputs": [],
   "source": [
    "# find the most similar users to a specific user\n",
    "def find_similar_users(user_id, k):\n",
    "    similarity = calc_similarity(user_id)\n",
    "    similar_users = np.zeros((k, 2))\n",
    "    for i in range(k):\n",
    "\n",
    "        # save the most similar user id and similarity\n",
    "        similar_users[i][0] = int(np.argmax(similarity) + 1)\n",
    "        # print(similar_users[i][0])\n",
    "        similar_users[i][1] = similarity[np.argmax(similarity)]\n",
    "        # print(similar_users[i][1])\n",
    "\n",
    "        # remove the most similar user\n",
    "        similarity[np.argmax(similarity)] = -1\n",
    "    return similar_users"
   ]
  },
  {
   "cell_type": "code",
   "execution_count": 55,
   "metadata": {},
   "outputs": [],
   "source": [
    "user_id = 1\n",
    "k = 10\n",
    "similar_users = find_similar_users(user_id, k)\n",
    "# for i in range(k):\n",
    "#     print(similar_users[i][0], similar_users[i][1])"
   ]
  },
  {
   "cell_type": "code",
   "execution_count": 89,
   "metadata": {},
   "outputs": [],
   "source": [
    "# recommend games to a specific user\n",
    "# k: number of similar users\n",
    "# m: number of games to recommend\n",
    "def recommend_games(user_id, k, m):\n",
    "\n",
    "    # find the most similar users with shape (k, 2)\n",
    "    similar_users = find_similar_users(user_id, k)\n",
    "    \n",
    "    # find the games that the user has not rated \n",
    "    games_not_rated = np.where(rating[user_id - 1] == 0)[0]\n",
    "\n",
    "    game_numbers = 10000\n",
    "\n",
    "    # set the number of rated games for each game\n",
    "    rated_number = np.zeros((game_numbers, 1))\n",
    "\n",
    "    # set score for each game \n",
    "    game_score = np.zeros((game_numbers, 1))\n",
    "    for i in range(k):\n",
    "        for j in games_not_rated:\n",
    "            result = rating[int(similar_users[i][0]) - 1][j] * similar_users[i][1]\n",
    "            game_score[j] += result\n",
    "            if result != 0:\n",
    "                rated_number[j] += 1\n",
    "    \n",
    "    # replace the games that have not been rated by any similar users with -1\n",
    "    rated_number = np.where(rated_number == 0, -1, rated_number)\n",
    "\n",
    "    # calculate the average score of each game\n",
    "    game_score = game_score / rated_number\n",
    "\n",
    "    # find the most similar games by their scores and id\n",
    "    recommended_games = np.zeros((m, 2))\n",
    "    for i in range(m):\n",
    "        recommended_games[i][0] = int(np.argmax(game_score) + 1)\n",
    "        recommended_games[i][1] = game_score[np.argmax(game_score)]\n",
    "        game_score[np.argmax(game_score)] = -1\n",
    "    return recommended_games"
   ]
  },
  {
   "cell_type": "code",
   "execution_count": 83,
   "metadata": {},
   "outputs": [],
   "source": [
    "# read games dataset\n",
    "games_data = spark.read.format(\"csv\").option(\"header\", \"true\").option(\"inferSchema\", \"true\").load(\"./Dataset/games.csv\")\n",
    "\n",
    "# get name of game\n",
    "def get_game_name(game_id):\n",
    "    return games_data.filter(games_data.game_id == game_id).collect()[0][1]"
   ]
  },
  {
   "cell_type": "code",
   "execution_count": 90,
   "metadata": {},
   "outputs": [
    {
     "name": "stdout",
     "output_type": "stream",
     "text": [
      "Halcyon 6: Starbase Commander 3.14970394174356\n",
      "Spring Break 2.439750182371333\n",
      "AirForce Delta Strike 2.439750182371333\n",
      "Senran Kagura Shinovi Versus 2.3741786762424573\n",
      "Squad Assault: West Front 2.0447945297729913\n"
     ]
    }
   ],
   "source": [
    "user_id = 1000\n",
    "k = 50\n",
    "m = 5\n",
    "\n",
    "recommend_game = recommend_games(user_id, k, m)\n",
    "for i in range(m):\n",
    "    print(get_game_name(int(recommend_game[i][0])), recommend_game[i][1])"
   ]
  }
 ],
 "metadata": {
  "kernelspec": {
   "display_name": "Python 3",
   "language": "python",
   "name": "python3"
  },
  "language_info": {
   "codemirror_mode": {
    "name": "ipython",
    "version": 3
   },
   "file_extension": ".py",
   "mimetype": "text/x-python",
   "name": "python",
   "nbconvert_exporter": "python",
   "pygments_lexer": "ipython3",
   "version": "3.8.6"
  },
  "orig_nbformat": 4,
  "vscode": {
   "interpreter": {
    "hash": "aee8b7b246df8f9039afb4144a1f6fd8d2ca17a180786b69acc140d282b71a49"
   }
  }
 },
 "nbformat": 4,
 "nbformat_minor": 2
}
